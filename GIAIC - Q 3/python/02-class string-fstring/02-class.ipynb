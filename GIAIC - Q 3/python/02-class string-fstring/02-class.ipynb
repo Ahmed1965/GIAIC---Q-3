{
 "cells": [
  {
   "cell_type": "markdown",
   "metadata": {},
   "source": [
    "# Class-02 String Data Type in python"
   ]
  },
  {
   "cell_type": "markdown",
   "metadata": {},
   "source": [
    "## \"f\" string in python\n"
   ]
  },
  {
   "cell_type": "code",
   "execution_count": null,
   "metadata": {},
   "outputs": [
    {
     "name": "stdout",
     "output_type": "stream",
     "text": [
      "\n",
      "PIAIC Student Card\n",
      "Name : Ahmed\n",
      "Father's Name : Muhammad Saleh\n",
      "Age : 34\n",
      "Education : Bachelor of Science in Computer Science\n",
      "\n"
     ]
    }
   ],
   "source": [
    "# Data for f string\n",
    "name: str = \"Ahmed\"\n",
    "fname: str = \"Muhammad Saleh\"\n",
    "age: int = 34\n",
    "education: str = \"Bachelor of Science in Computer Science\"\n",
    "\n",
    "# Declearing f string\n",
    "Card : str =f\"\"\"\n",
    "PIAIC Student Card\n",
    "Name : {name}\n",
    "Father's Name : {fname}\n",
    "Age : {age}\n",
    "Education : {education}\n",
    "\"\"\"\n",
    "print(Card)\n",
    "    \n",
    "    \n",
    "    "
   ]
  },
  {
   "cell_type": "markdown",
   "metadata": {},
   "source": [
    "### Exploring String Methods and attributes"
   ]
  },
  {
   "cell_type": "code",
   "execution_count": null,
   "metadata": {},
   "outputs": [
    {
     "name": "stdout",
     "output_type": "stream",
     "text": [
      "['capitalize', 'casefold', 'center', 'count', 'encode', 'endswith', 'expandtabs', 'find', 'format', 'format_map', 'index', 'isalnum', 'isalpha', 'isascii', 'isdecimal', 'isdigit', 'isidentifier', 'islower', 'isnumeric', 'isprintable', 'isspace', 'istitle', 'isupper', 'join', 'ljust', 'lower', 'lstrip', 'maketrans', 'partition', 'removeprefix', 'removesuffix', 'replace', 'rfind', 'rindex', 'rjust', 'rpartition', 'rsplit', 'rstrip', 'split', 'splitlines', 'startswith', 'strip', 'swapcase', 'title', 'translate', 'upper', 'zfill']\n",
      "47\n"
     ]
    },
    {
     "ename": "",
     "evalue": "",
     "output_type": "error",
     "traceback": [
      "\u001b[1;31mThe Kernel crashed while executing code in the current cell or a previous cell. \n",
      "\u001b[1;31mPlease review the code in the cell(s) to identify a possible cause of the failure. \n",
      "\u001b[1;31mClick <a href='https://aka.ms/vscodeJupyterKernelCrash'>here</a> for more info. \n",
      "\u001b[1;31mView Jupyter <a href='command:jupyter.viewOutput'>log</a> for further details."
     ]
    }
   ],
   "source": [
    "a: list[str] = [i for i in dir(str) if \"__\" not in i]\n",
    "print(a)\n",
    "print(len(a))"
   ]
  },
  {
   "cell_type": "code",
   "execution_count": 29,
   "metadata": {},
   "outputs": [
    {
     "name": "stdout",
     "output_type": "stream",
     "text": [
      "AHMED\n",
      "Ahmed\n",
      "ahmed\n",
      "ahmed\n",
      "AHMED\n",
      "Ahmed\n",
      "       ahmed        \n",
      "1\n",
      "b'ahmed'\n",
      "False\n"
     ]
    }
   ],
   "source": [
    "name: str = 'ahmed'\n",
    "print(name.upper())\n",
    "print(name.capitalize())\n",
    "print(name.lower())\n",
    "print(name.casefold())\n",
    "print(name.swapcase())\n",
    "print(name.title())\n",
    "print(name.center(20))\n",
    "print(name.count(name))\n",
    "print(name.encode())\n",
    "print(name.isupper())\n",
    "\n",
    "\n"
   ]
  },
  {
   "cell_type": "markdown",
   "metadata": {},
   "source": [
    "### Placeholder  {}"
   ]
  },
  {
   "cell_type": "code",
   "execution_count": 31,
   "metadata": {},
   "outputs": [
    {
     "data": {
      "text/plain": [
       "'Pakistan value = 5 zindabad value = 6'"
      ]
     },
     "execution_count": 31,
     "metadata": {},
     "output_type": "execute_result"
    }
   ],
   "source": [
    "a = 5\n",
    "b = 6 \n",
    "# {} = placeholder\n",
    "\"Pakistan value = {} zindabad value = {}\".format(a,b)"
   ]
  },
  {
   "cell_type": "code",
   "execution_count": null,
   "metadata": {},
   "outputs": [
    {
     "name": "stdout",
     "output_type": "stream",
     "text": [
      "\n",
      "PIAIC Student Card\n",
      "Name = ahmed\n",
      "Father Name = Muhammad Saleh\n",
      "Age:  = 34\n",
      "Education:  = Bachelor of Science in Computer Science\n",
      "\n"
     ]
    }
   ],
   "source": [
    "# string format function and methods\n",
    "Card: str = \"\"\"\n",
    "PIAIC Student Card\n",
    "Name = {}\n",
    "Father Name = {}\n",
    "Age:  = {}\n",
    "Education:  = {}\n",
    "\"\"\".format(name, fname, age, education)\n",
    "print(Card)\n"
   ]
  },
  {
   "cell_type": "code",
   "execution_count": 42,
   "metadata": {},
   "outputs": [
    {
     "name": "stdout",
     "output_type": "stream",
     "text": [
      "My Name is Ahmed\n",
      "40\n"
     ]
    }
   ],
   "source": [
    "Student_Code : str = \"\"\"\n",
    "print(\"My Name is Ahmed\") \n",
    "a: int = 6\n",
    "b: int = 34\n",
    "print(a + b)\n",
    "\"\"\"\n",
    "exec(Student_Code)"
   ]
  }
 ],
 "metadata": {
  "kernelspec": {
   "display_name": "python13",
   "language": "python",
   "name": "python3"
  },
  "language_info": {
   "codemirror_mode": {
    "name": "ipython",
    "version": 3
   },
   "file_extension": ".py",
   "mimetype": "text/x-python",
   "name": "python",
   "nbconvert_exporter": "python",
   "pygments_lexer": "ipython3",
   "version": "3.13.2"
  }
 },
 "nbformat": 4,
 "nbformat_minor": 2
}
